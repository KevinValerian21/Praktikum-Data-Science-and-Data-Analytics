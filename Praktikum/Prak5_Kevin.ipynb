{
 "cells": [
  {
   "cell_type": "markdown",
   "metadata": {},
   "source": [
    "# Preprocessing NLTK"
   ]
  },
  {
   "cell_type": "code",
   "execution_count": 1,
   "metadata": {},
   "outputs": [
    {
     "name": "stdout",
     "output_type": "stream",
     "text": [
      "Requirement already satisfied: nltk in c:\\python37\\lib\\site-packages (3.2.4)\n",
      "Requirement already satisfied: six in c:\\python37\\lib\\site-packages (from nltk) (1.14.0)\n"
     ]
    },
    {
     "name": "stderr",
     "output_type": "stream",
     "text": [
      "WARNING: Ignoring invalid distribution -umpy (c:\\python37\\lib\\site-packages)\n",
      "WARNING: Ignoring invalid distribution -umpy (c:\\python37\\lib\\site-packages)\n",
      "WARNING: Ignoring invalid distribution -umpy (c:\\python37\\lib\\site-packages)\n",
      "WARNING: Ignoring invalid distribution -umpy (c:\\python37\\lib\\site-packages)\n",
      "WARNING: Ignoring invalid distribution -umpy (c:\\python37\\lib\\site-packages)\n"
     ]
    }
   ],
   "source": [
    "import sys\n",
    "!{sys.executable} -m pip install nltk"
   ]
  },
  {
   "cell_type": "code",
   "execution_count": 2,
   "metadata": {},
   "outputs": [],
   "source": [
    "import re\n",
    "import string\n",
    "import nltk\n",
    "#nltk.download('all')\n",
    "from nltk.tokenize import word_tokenize"
   ]
  },
  {
   "cell_type": "code",
   "execution_count": 3,
   "metadata": {},
   "outputs": [
    {
     "name": "stdout",
     "output_type": "stream",
     "text": [
      "Bacaan:\n",
      "----------------\n",
      " Sejak sebulan terakhir harga bawang putih dan bombay yang sempat melonjak tinggi akhirnya kembali turun dan stabil di rata-rata Rp. 20.000 per kg. Namun, berkah harga murah yang dinikmati masyarakat kembali terusik dengan mulai naiknya harga bawang putih di pasar. Pemerhati Pertanian, Syaiful Bahari, menjelaskan masalah kenaikan harga komoditi yang terkait dengan impor seperti bawang putih, bombay dan gula, selama ini lebih banyak disebabkan oleh kebijakan restriksi atau pembatasan yang diberlakukan oleh pemerintah sendiri. Untuk kasus bawang putih dan bombay, lanjut Syaiful, ketika relaksasi diberlakukan terbukti harga turun drastis. Bombay dari Rp 150.000 per kilo gram menjadi Rp 17.000 sampai Rp. 20.000 per kilo gram. Sehingga kedua komoditi ini menyumbang deflasi.\n",
      "\n",
      "\n"
     ]
    }
   ],
   "source": [
    "#Membaca File\n",
    "f = open(\"C:/Users/Kevin Valerian/Desktop/Semester 5/Data Science dan Analytics/Praktikum DSDA/news.txt\",\"r\") #Pastikan sesuai dengan directory file\n",
    "text = f.read()\n",
    "f.close()\n",
    "\n",
    "print(\"Bacaan:\\n----------------\\n\", text)"
   ]
  },
  {
   "cell_type": "code",
   "execution_count": 4,
   "metadata": {},
   "outputs": [
    {
     "name": "stdout",
     "output_type": "stream",
     "text": [
      "Huruf kecil semua:\n",
      "----------------\n",
      " sejak sebulan terakhir harga bawang putih dan bombay yang sempat melonjak tinggi akhirnya kembali turun dan stabil di rata-rata rp. 20.000 per kg. namun, berkah harga murah yang dinikmati masyarakat kembali terusik dengan mulai naiknya harga bawang putih di pasar. pemerhati pertanian, syaiful bahari, menjelaskan masalah kenaikan harga komoditi yang terkait dengan impor seperti bawang putih, bombay dan gula, selama ini lebih banyak disebabkan oleh kebijakan restriksi atau pembatasan yang diberlakukan oleh pemerintah sendiri. untuk kasus bawang putih dan bombay, lanjut syaiful, ketika relaksasi diberlakukan terbukti harga turun drastis. bombay dari rp 150.000 per kilo gram menjadi rp 17.000 sampai rp. 20.000 per kilo gram. sehingga kedua komoditi ini menyumbang deflasi.\n",
      "\n",
      "\n"
     ]
    }
   ],
   "source": [
    "#3.\tMengubah huruf menjadi huruf kecil\n",
    "text = text.lower()\n",
    "print(\"Huruf kecil semua:\\n----------------\\n\", text)"
   ]
  },
  {
   "cell_type": "code",
   "execution_count": 5,
   "metadata": {},
   "outputs": [
    {
     "name": "stdout",
     "output_type": "stream",
     "text": [
      "Menghilangkan angka:\n",
      "----------------\n",
      " sejak sebulan terakhir harga bawang putih dan bombay yang sempat melonjak tinggi akhirnya kembali turun dan stabil di rata-rata rp. . per kg. namun, berkah harga murah yang dinikmati masyarakat kembali terusik dengan mulai naiknya harga bawang putih di pasar. pemerhati pertanian, syaiful bahari, menjelaskan masalah kenaikan harga komoditi yang terkait dengan impor seperti bawang putih, bombay dan gula, selama ini lebih banyak disebabkan oleh kebijakan restriksi atau pembatasan yang diberlakukan oleh pemerintah sendiri. untuk kasus bawang putih dan bombay, lanjut syaiful, ketika relaksasi diberlakukan terbukti harga turun drastis. bombay dari rp . per kilo gram menjadi rp . sampai rp. . per kilo gram. sehingga kedua komoditi ini menyumbang deflasi.\n",
      "\n",
      "\n"
     ]
    }
   ],
   "source": [
    "#4.\tMenghapus angka pada paragraf\n",
    "text = re.sub(r\"\\d+\", \"\", text)\n",
    "print(\"Menghilangkan angka:\\n----------------\\n\", text)"
   ]
  },
  {
   "cell_type": "code",
   "execution_count": 6,
   "metadata": {},
   "outputs": [
    {
     "name": "stdout",
     "output_type": "stream",
     "text": [
      "Menghilangkan Tanda Baca:\n",
      "----------------\n",
      " sejak sebulan terakhir harga bawang putih dan bombay yang sempat melonjak tinggi akhirnya kembali turun dan stabil di ratarata rp  per kg namun berkah harga murah yang dinikmati masyarakat kembali terusik dengan mulai naiknya harga bawang putih di pasar pemerhati pertanian syaiful bahari menjelaskan masalah kenaikan harga komoditi yang terkait dengan impor seperti bawang putih bombay dan gula selama ini lebih banyak disebabkan oleh kebijakan restriksi atau pembatasan yang diberlakukan oleh pemerintah sendiri untuk kasus bawang putih dan bombay lanjut syaiful ketika relaksasi diberlakukan terbukti harga turun drastis bombay dari rp  per kilo gram menjadi rp  sampai rp  per kilo gram sehingga kedua komoditi ini menyumbang deflasi\n",
      "\n",
      "\n"
     ]
    }
   ],
   "source": [
    "#5.\tMenghapus tanda baca\n",
    "text = text.translate(str.maketrans(\"\",\"\",string.punctuation))\n",
    "print(\"Menghilangkan Tanda Baca:\\n----------------\\n\",text)"
   ]
  },
  {
   "cell_type": "code",
   "execution_count": 7,
   "metadata": {},
   "outputs": [
    {
     "name": "stdout",
     "output_type": "stream",
     "text": [
      "\n",
      "Karakter Kosong hilang:\n",
      "----------------\n",
      " sejak sebulan terakhir harga bawang putih dan bombay yang sempat melonjak tinggi akhirnya kembali turun dan stabil di ratarata rp  per kg namun berkah harga murah yang dinikmati masyarakat kembali terusik dengan mulai naiknya harga bawang putih di pasar pemerhati pertanian syaiful bahari menjelaskan masalah kenaikan harga komoditi yang terkait dengan impor seperti bawang putih bombay dan gula selama ini lebih banyak disebabkan oleh kebijakan restriksi atau pembatasan yang diberlakukan oleh pemerintah sendiri untuk kasus bawang putih dan bombay lanjut syaiful ketika relaksasi diberlakukan terbukti harga turun drastis bombay dari rp  per kilo gram menjadi rp  sampai rp  per kilo gram sehingga kedua komoditi ini menyumbang deflasi\n"
     ]
    }
   ],
   "source": [
    "#6.\tMenghapus karakter kosong\n",
    "text = text.strip()\n",
    "print(\"\\nKarakter Kosong hilang:\\n----------------\\n\",text)"
   ]
  },
  {
   "cell_type": "markdown",
   "metadata": {},
   "source": [
    "# Tokenizing \n",
    "Adalah kegiatan untuk memecah satu kalimat menjadi satu suku kata sebelum data diolah lebih mendalam"
   ]
  },
  {
   "cell_type": "code",
   "execution_count": 8,
   "metadata": {},
   "outputs": [
    {
     "name": "stdout",
     "output_type": "stream",
     "text": [
      "Tokenizing:\n",
      "----------------\n",
      " ['sejak', 'sebulan', 'terakhir', 'harga', 'bawang', 'putih', 'dan', 'bombay', 'yang', 'sempat', 'melonjak', 'tinggi', 'akhirnya', 'kembali', 'turun', 'dan', 'stabil', 'di', 'ratarata', 'rp', 'per', 'kg', 'namun', 'berkah', 'harga', 'murah', 'yang', 'dinikmati', 'masyarakat', 'kembali', 'terusik', 'dengan', 'mulai', 'naiknya', 'harga', 'bawang', 'putih', 'di', 'pasar', 'pemerhati', 'pertanian', 'syaiful', 'bahari', 'menjelaskan', 'masalah', 'kenaikan', 'harga', 'komoditi', 'yang', 'terkait', 'dengan', 'impor', 'seperti', 'bawang', 'putih', 'bombay', 'dan', 'gula', 'selama', 'ini', 'lebih', 'banyak', 'disebabkan', 'oleh', 'kebijakan', 'restriksi', 'atau', 'pembatasan', 'yang', 'diberlakukan', 'oleh', 'pemerintah', 'sendiri', 'untuk', 'kasus', 'bawang', 'putih', 'dan', 'bombay', 'lanjut', 'syaiful', 'ketika', 'relaksasi', 'diberlakukan', 'terbukti', 'harga', 'turun', 'drastis', 'bombay', 'dari', 'rp', 'per', 'kilo', 'gram', 'menjadi', 'rp', 'sampai', 'rp', 'per', 'kilo', 'gram', 'sehingga', 'kedua', 'komoditi', 'ini', 'menyumbang', 'deflasi']\n"
     ]
    }
   ],
   "source": [
    "#7.\tProses tokenizing\n",
    "tokens = word_tokenize(text)\n",
    "print(\"Tokenizing:\\n----------------\\n\", tokens)"
   ]
  },
  {
   "cell_type": "markdown",
   "metadata": {},
   "source": [
    "# Sastrawi\n",
    "Sastrawi adalah library NLTK untuk mereduksi atau mengolah kata-kata dalam bahasa Indonesia"
   ]
  },
  {
   "cell_type": "code",
   "execution_count": 9,
   "metadata": {},
   "outputs": [
    {
     "name": "stdout",
     "output_type": "stream",
     "text": [
      "Requirement already satisfied: Sastrawi in c:\\python37\\lib\\site-packages (1.0.1)\n"
     ]
    },
    {
     "name": "stderr",
     "output_type": "stream",
     "text": [
      "WARNING: Ignoring invalid distribution -umpy (c:\\python37\\lib\\site-packages)\n",
      "WARNING: Ignoring invalid distribution -umpy (c:\\python37\\lib\\site-packages)\n",
      "WARNING: Ignoring invalid distribution -umpy (c:\\python37\\lib\\site-packages)\n",
      "WARNING: Ignoring invalid distribution -umpy (c:\\python37\\lib\\site-packages)\n",
      "WARNING: Ignoring invalid distribution -umpy (c:\\python37\\lib\\site-packages)\n"
     ]
    }
   ],
   "source": [
    "#8.\tMemasang library Sastrawi\n",
    "!{sys.executable} -m pip install Sastrawi\n",
    "from nltk.corpus import stopwords\n",
    "from nltk.probability import FreqDist\n",
    "from Sastrawi.StopWordRemover.StopWordRemoverFactory import StopWordRemoverFactory\n",
    "from Sastrawi.Stemmer.StemmerFactory import StemmerFactory\n",
    "import matplotlib.pyplot as plt"
   ]
  },
  {
   "cell_type": "markdown",
   "metadata": {},
   "source": [
    "# Filter Sastrawi\n",
    "Filtering adalah suatu kegiatan untuk menghapus kata yang tidak ada maknanya atau berulang"
   ]
  },
  {
   "cell_type": "code",
   "execution_count": 10,
   "metadata": {},
   "outputs": [
    {
     "name": "stdout",
     "output_type": "stream",
     "text": [
      "\n",
      "Setelah filtering:\n",
      "----------------\n",
      " sejak sebulan terakhir harga bawang putih bombay sempat melonjak tinggi akhirnya turun stabil ratarata rp  per kg berkah harga murah dinikmati masyarakat terusik mulai naiknya harga bawang putih pasar pemerhati pertanian syaiful bahari menjelaskan masalah kenaikan harga komoditi terkait impor bawang putih bombay gula selama lebih banyak disebabkan kebijakan restriksi pembatasan diberlakukan pemerintah sendiri kasus bawang putih bombay lanjut syaiful relaksasi diberlakukan terbukti harga turun drastis bombay rp  per kilo gram menjadi rp  rp  per kilo gram kedua komoditi menyumbang deflasi\n"
     ]
    }
   ],
   "source": [
    "#9.\tProses filter menggunakan Sastrawi\n",
    "factory = StopWordRemoverFactory()\n",
    "stopword = factory.create_stop_word_remover()\n",
    "text = stopword.remove(text)\n",
    "print(\"\\nSetelah filtering:\\n----------------\\n\", text)"
   ]
  },
  {
   "cell_type": "markdown",
   "metadata": {},
   "source": [
    "# Stemming Sastrawi\n",
    "Stemming adalah suatu kegiatan untuk mengubah suatu kata menjadi bentuk dasarnya seperti\n",
    "Bekerja => Kerja\n",
    "Menyumbang: Sumbang"
   ]
  },
  {
   "cell_type": "code",
   "execution_count": 11,
   "metadata": {},
   "outputs": [
    {
     "name": "stdout",
     "output_type": "stream",
     "text": [
      "\n",
      "Output stemming:\n",
      "----------------\n",
      " sejak bulan akhir harga bawang putih bombay sempat lonjak tinggi akhir turun stabil ratarata rp per kg berkah harga murah nikmat masyarakat usik mulai naik harga bawang putih pasar perhati tani syaiful bahari jelas masalah naik harga komoditi kait impor bawang putih bombay gula lama lebih banyak sebab bijak restriksi batas laku perintah sendiri kasus bawang putih bombay lanjut syaiful relaksasi laku bukti harga turun drastis bombay rp per kilo gram jadi rp rp per kilo gram dua komoditi sumbang deflasi\n"
     ]
    }
   ],
   "source": [
    "#10.\tProses Stemming Sastrawi\n",
    "factory = StemmerFactory()\n",
    "stemmer = factory.create_stemmer()\n",
    "text = stemmer.stem(text)\n",
    "print(\"\\nOutput stemming:\\n----------------\\n\", text)"
   ]
  },
  {
   "cell_type": "markdown",
   "metadata": {},
   "source": [
    "# Analisis Teks Sastrawi"
   ]
  },
  {
   "cell_type": "code",
   "execution_count": 12,
   "metadata": {},
   "outputs": [
    {
     "name": "stdout",
     "output_type": "stream",
     "text": [
      "\n",
      "Term Frequency:\n",
      "----------------\n",
      " [('harga', 5), ('bawang', 4), ('putih', 4), ('dan', 4), ('bombay', 4), ('yang', 4), ('rp', 4), ('per', 3), ('kembali', 2), ('turun', 2), ('di', 2), ('dengan', 2), ('syaiful', 2), ('komoditi', 2), ('ini', 2), ('oleh', 2), ('diberlakukan', 2), ('kilo', 2), ('gram', 2), ('sejak', 1), ('sebulan', 1), ('terakhir', 1), ('sempat', 1), ('melonjak', 1), ('tinggi', 1), ('akhirnya', 1), ('stabil', 1), ('ratarata', 1), ('kg', 1), ('namun', 1), ('berkah', 1), ('murah', 1), ('dinikmati', 1), ('masyarakat', 1), ('terusik', 1), ('mulai', 1), ('naiknya', 1), ('pasar', 1), ('pemerhati', 1), ('pertanian', 1), ('bahari', 1), ('menjelaskan', 1), ('masalah', 1), ('kenaikan', 1), ('terkait', 1), ('impor', 1), ('seperti', 1), ('gula', 1), ('selama', 1), ('lebih', 1), ('banyak', 1), ('disebabkan', 1), ('kebijakan', 1), ('restriksi', 1), ('atau', 1), ('pembatasan', 1), ('pemerintah', 1), ('sendiri', 1), ('untuk', 1), ('kasus', 1), ('lanjut', 1), ('ketika', 1), ('relaksasi', 1), ('terbukti', 1), ('drastis', 1), ('dari', 1), ('menjadi', 1), ('sampai', 1), ('sehingga', 1), ('kedua', 1), ('menyumbang', 1), ('deflasi', 1)]\n"
     ]
    }
   ],
   "source": [
    "#11.\tFrekuensi huruf yang muncul menggunakan Sastrawi\n",
    "tf = FreqDist(tokens)\n",
    "print(\"\\nTerm Frequency:\\n----------------\\n\", tf.most_common())"
   ]
  },
  {
   "cell_type": "code",
   "execution_count": 13,
   "metadata": {},
   "outputs": [
    {
     "name": "stdout",
     "output_type": "stream",
     "text": [
      "\n",
      "Keyword yang paling banyak muncul:\n",
      "----------------\n",
      " harga = 5 \n",
      "\n"
     ]
    }
   ],
   "source": [
    "#12.\tKata yang sering muncul menggunakan Sastrawi\n",
    "word, frequency= tf.most_common()[0]\n",
    "print(\"\\nKeyword yang paling banyak muncul:\\n----------------\\n\", word, \"=\", frequency , \"\\n\")"
   ]
  },
  {
   "cell_type": "code",
   "execution_count": 14,
   "metadata": {},
   "outputs": [
    {
     "name": "stdout",
     "output_type": "stream",
     "text": [
      "\n",
      "Keseluruhan keywords:\n",
      "----------------\n",
      "\n",
      "harga : 5\n",
      "bawang : 4\n",
      "putih : 4\n",
      "dan : 4\n",
      "bombay : 4\n",
      "yang : 4\n",
      "rp : 4\n",
      "per : 3\n",
      "kembali : 2\n",
      "turun : 2\n",
      "di : 2\n",
      "dengan : 2\n",
      "syaiful : 2\n",
      "komoditi : 2\n",
      "ini : 2\n",
      "oleh : 2\n",
      "diberlakukan : 2\n",
      "kilo : 2\n",
      "gram : 2\n",
      "sejak : 1\n",
      "sebulan : 1\n",
      "terakhir : 1\n",
      "sempat : 1\n",
      "melonjak : 1\n",
      "tinggi : 1\n",
      "akhirnya : 1\n",
      "stabil : 1\n",
      "ratarata : 1\n",
      "kg : 1\n",
      "namun : 1\n",
      "berkah : 1\n",
      "murah : 1\n",
      "dinikmati : 1\n",
      "masyarakat : 1\n",
      "terusik : 1\n",
      "mulai : 1\n",
      "naiknya : 1\n",
      "pasar : 1\n",
      "pemerhati : 1\n",
      "pertanian : 1\n",
      "bahari : 1\n",
      "menjelaskan : 1\n",
      "masalah : 1\n",
      "kenaikan : 1\n",
      "terkait : 1\n",
      "impor : 1\n",
      "seperti : 1\n",
      "gula : 1\n",
      "selama : 1\n",
      "lebih : 1\n",
      "banyak : 1\n",
      "disebabkan : 1\n",
      "kebijakan : 1\n",
      "restriksi : 1\n",
      "atau : 1\n",
      "pembatasan : 1\n",
      "pemerintah : 1\n",
      "sendiri : 1\n",
      "untuk : 1\n",
      "kasus : 1\n",
      "lanjut : 1\n",
      "ketika : 1\n",
      "relaksasi : 1\n",
      "terbukti : 1\n",
      "drastis : 1\n",
      "dari : 1\n",
      "menjadi : 1\n",
      "sampai : 1\n",
      "sehingga : 1\n",
      "kedua : 1\n",
      "menyumbang : 1\n",
      "deflasi : 1\n"
     ]
    }
   ],
   "source": [
    "#13.\tKeseluruhan kata yang muncul\n",
    "print(\"\\nKeseluruhan keywords:\\n----------------\\n\")\n",
    "for word, frequency in tf.most_common():\n",
    "    print(word, \":\", frequency)"
   ]
  },
  {
   "cell_type": "code",
   "execution_count": 15,
   "metadata": {},
   "outputs": [
    {
     "data": {
      "image/png": "[encoded data removed]",
      "text/plain": [
       "<Figure size 432x288 with 1 Axes>"
      ]
     },
     "metadata": {
      "needs_background": "light"
     },
     "output_type": "display_data"
    }
   ],
   "source": [
    "#14.\tPlot data kata yang sering muncul\n",
    "tf.plot(cumulative=False)\n",
    "plt.show()"
   ]
  },
  {
   "cell_type": "markdown",
   "metadata": {},
   "source": [
    "# Porter\n",
    "Porter adalah library NLTK untuk mereduksi atau mengolah kata-kata dalam bahasa Universal"
   ]
  },
  {
   "cell_type": "code",
   "execution_count": 16,
   "metadata": {},
   "outputs": [],
   "source": [
    "#15.\tMemasang library Porter\n",
    "from nltk.stem import PorterStemmer"
   ]
  },
  {
   "cell_type": "code",
   "execution_count": 17,
   "metadata": {},
   "outputs": [
    {
     "name": "stdout",
     "output_type": "stream",
     "text": [
      "\n",
      "Setelah filtering\n",
      "----------------\n",
      " ['sebulan', 'harga', 'bawang', 'putih', 'bombay', 'melonjak', 'turun', 'stabil', 'ratarata', 'rp', 'kg', 'berkah', 'harga', 'murah', 'dinikmati', 'masyarakat', 'terusik', 'naiknya', 'harga', 'bawang', 'putih', 'pasar', 'pemerhati', 'pertanian', 'syaiful', 'bahari', 'kenaikan', 'harga', 'komoditi', 'terkait', 'impor', 'bawang', 'putih', 'bombay', 'gula', 'disebabkan', 'kebijakan', 'restriksi', 'pembatasan', 'diberlakukan', 'pemerintah', 'bawang', 'putih', 'bombay', 'syaiful', 'relaksasi', 'diberlakukan', 'terbukti', 'harga', 'turun', 'drastis', 'bombay', 'rp', 'kilo', 'gram', 'rp', 'rp', 'kilo', 'gram', 'komoditi', 'menyumbang', 'deflasi']\n"
     ]
    }
   ],
   "source": [
    "#16.\tProses filter menggunakan Porter\n",
    "listStopword = set(stopwords.words('indonesian'))\n",
    "tmpstr = []\n",
    "for t in tokens:\n",
    "    if t not in listStopword:\n",
    "        tmpstr.append(t)\n",
    "        tokens=tmpstr\n",
    "print(\"\\nSetelah filtering\\n----------------\\n\", tokens)"
   ]
  },
  {
   "cell_type": "code",
   "execution_count": 18,
   "metadata": {},
   "outputs": [
    {
     "name": "stdout",
     "output_type": "stream",
     "text": [
      "\n",
      "Output stemming:\n",
      "----------------\n",
      " ['sebulan', 'harga', 'bawang', 'putih', 'bombay', 'melonjak', 'turun', 'stabil', 'ratarata', 'rp', 'kg', 'berkah', 'harga', 'murah', 'dinikmati', 'masyarakat', 'terusik', 'naiknya', 'harga', 'bawang', 'putih', 'pasar', 'pemerhati', 'pertanian', 'syaiful', 'bahari', 'kenaikan', 'harga', 'komod', 'terkait', 'impor', 'bawang', 'putih', 'bombay', 'gula', 'disebabkan', 'kebijakan', 'restriksi', 'pembatasan', 'diberlakukan', 'pemerintah', 'bawang', 'putih', 'bombay', 'syaiful', 'relaksasi', 'diberlakukan', 'terbukti', 'harga', 'turun', 'drasti', 'bombay', 'rp', 'kilo', 'gram', 'rp', 'rp', 'kilo', 'gram', 'komod', 'menyumbang', 'deflasi']\n"
     ]
    }
   ],
   "source": [
    "#17.\tProses Stemming menggunakan Porter\n",
    "tmpstr = []\n",
    "ps = PorterStemmer()\n",
    "for k in tokens:\n",
    "    tmpstr.append(ps.stem(k))\n",
    "tokens=tmpstr\n",
    "print(\"\\nOutput stemming:\\n----------------\\n\", tokens)"
   ]
  },
  {
   "cell_type": "code",
   "execution_count": 19,
   "metadata": {},
   "outputs": [
    {
     "name": "stdout",
     "output_type": "stream",
     "text": [
      "\n",
      "Term Frequency:\n",
      "----------------\n",
      " [('harga', 5), ('bawang', 4), ('putih', 4), ('bombay', 4), ('rp', 4), ('turun', 2), ('syaiful', 2), ('komod', 2), ('diberlakukan', 2), ('kilo', 2), ('gram', 2), ('sebulan', 1), ('melonjak', 1), ('stabil', 1), ('ratarata', 1), ('kg', 1), ('berkah', 1), ('murah', 1), ('dinikmati', 1), ('masyarakat', 1), ('terusik', 1), ('naiknya', 1), ('pasar', 1), ('pemerhati', 1), ('pertanian', 1), ('bahari', 1), ('kenaikan', 1), ('terkait', 1), ('impor', 1), ('gula', 1), ('disebabkan', 1), ('kebijakan', 1), ('restriksi', 1), ('pembatasan', 1), ('pemerintah', 1), ('relaksasi', 1), ('terbukti', 1), ('drasti', 1), ('menyumbang', 1), ('deflasi', 1)]\n"
     ]
    }
   ],
   "source": [
    "#18.\tFrekuensi kata yang muncul menggunakan Porter\n",
    "tf = FreqDist(tokens)\n",
    "print(\"\\nTerm Frequency:\\n----------------\\n\", tf.most_common())"
   ]
  },
  {
   "cell_type": "code",
   "execution_count": 20,
   "metadata": {},
   "outputs": [
    {
     "name": "stdout",
     "output_type": "stream",
     "text": [
      "\n",
      "Keyword yang paling banyak muncul:\n",
      "----------------\n",
      " harga = 5 \n",
      "\n"
     ]
    }
   ],
   "source": [
    "#19.\tKata yang sering muncul menggunakan Porter\n",
    "word, frequency=tf.most_common()[0]\n",
    "print(\"\\nKeyword yang paling banyak muncul:\\n----------------\\n\", word, \"=\", frequency , \"\\n\")"
   ]
  },
  {
   "cell_type": "code",
   "execution_count": 21,
   "metadata": {},
   "outputs": [
    {
     "name": "stdout",
     "output_type": "stream",
     "text": [
      "\n",
      "Keseluruhan keywords:\n",
      "----------------\n",
      "\n",
      "harga : 5\n",
      "bawang : 4\n",
      "putih : 4\n",
      "bombay : 4\n",
      "rp : 4\n",
      "turun : 2\n",
      "syaiful : 2\n",
      "komod : 2\n",
      "diberlakukan : 2\n",
      "kilo : 2\n",
      "gram : 2\n",
      "sebulan : 1\n",
      "melonjak : 1\n",
      "stabil : 1\n",
      "ratarata : 1\n",
      "kg : 1\n",
      "berkah : 1\n",
      "murah : 1\n",
      "dinikmati : 1\n",
      "masyarakat : 1\n",
      "terusik : 1\n",
      "naiknya : 1\n",
      "pasar : 1\n",
      "pemerhati : 1\n",
      "pertanian : 1\n",
      "bahari : 1\n",
      "kenaikan : 1\n",
      "terkait : 1\n",
      "impor : 1\n",
      "gula : 1\n",
      "disebabkan : 1\n",
      "kebijakan : 1\n",
      "restriksi : 1\n",
      "pembatasan : 1\n",
      "pemerintah : 1\n",
      "relaksasi : 1\n",
      "terbukti : 1\n",
      "drasti : 1\n",
      "menyumbang : 1\n",
      "deflasi : 1\n"
     ]
    }
   ],
   "source": [
    "#20.\tKeseluruhan kata yang muncul\n",
    "print(\"\\nKeseluruhan keywords:\\n----------------\\n\")\n",
    "for word, frequency in tf.most_common():\n",
    "    print(word, \":\", frequency)"
   ]
  },
  {
   "cell_type": "code",
   "execution_count": 22,
   "metadata": {},
   "outputs": [
    {
     "data": {
      "image/png": "[encoded data removed]",
      "text/plain": [
       "<Figure size 432x288 with 1 Axes>"
      ]
     },
     "metadata": {
      "needs_background": "light"
     },
     "output_type": "display_data"
    }
   ],
   "source": [
    "#21.\tPlot data yang sering muncul\n",
    "tf.plot(cumulative=False)\n",
    "plt.show()"
   ]
  },
  {
   "cell_type": "code",
   "execution_count": 23,
   "metadata": {},
   "outputs": [
    {
     "name": "stdout",
     "output_type": "stream",
     "text": [
      "Bacaan:\n",
      "----------------\n",
      " Indonesia seakan ketiban 'durian runtuh' hingga triliunan rupiah saat terjadinya ledakan harga komoditas beberapa waktu lalu. Komoditas ini di antaranya minyak dan gas bumi, batu bara, nikel, minyak kelapa sawit (crude palm oil/CPO), tembaga dan lainnya. Komoditas andalan ekspor Indonesia ini alami kenaikan harga fantastis dalam setahun terakhir. Menteri Keuangan (Menkeu) Sri Mulyani Indrawati menyampaikan efek lonjakan harga komoditas berpengaruh terhadap bea keluar (BK) di mana realisasinya mencapai Rp 22,56 triliun atau terbaik sepanjang sejarah Indonesia. SDA Migas mencapai pertumbuhan 16,4% menjadi 82,7% dari target Rp 75 triliun. Dipengaruhi oleh kenaikan ICP dalam 10 bulan terakhir yang sebesar US$ 62,55 per barel atau di atas rata-rata asumsi APBN. Di samping itu ada dorongan juga dari peningkatan produksi kayu, penggunaan areal kawasan hutan, pembayaran piutang PNBP penggunaan kawasan hutan serta kenaikan pendapatan perusahaan panas bumi.\n"
     ]
    }
   ],
   "source": [
    "#Membaca File\n",
    "f = open(\"C:/Users/Kevin Valerian/Desktop/Semester 5/Data Science dan Analytics/Praktikum DSDA/news3.txt\",\"r\") #Pastikan sesuai dengan directory file\n",
    "text3 = f.read()\n",
    "f.close()\n",
    "\n",
    "print(\"Bacaan:\\n----------------\\n\", text3)"
   ]
  },
  {
   "cell_type": "code",
   "execution_count": 24,
   "metadata": {
    "scrolled": false
   },
   "outputs": [
    {
     "name": "stdout",
     "output_type": "stream",
     "text": [
      "Huruf kecil semua:\n",
      "----------------\n",
      " indonesia seakan ketiban 'durian runtuh' hingga triliunan rupiah saat terjadinya ledakan harga komoditas beberapa waktu lalu. komoditas ini di antaranya minyak dan gas bumi, batu bara, nikel, minyak kelapa sawit (crude palm oil/cpo), tembaga dan lainnya. komoditas andalan ekspor indonesia ini alami kenaikan harga fantastis dalam setahun terakhir. menteri keuangan (menkeu) sri mulyani indrawati menyampaikan efek lonjakan harga komoditas berpengaruh terhadap bea keluar (bk) di mana realisasinya mencapai rp 22,56 triliun atau terbaik sepanjang sejarah indonesia. sda migas mencapai pertumbuhan 16,4% menjadi 82,7% dari target rp 75 triliun. dipengaruhi oleh kenaikan icp dalam 10 bulan terakhir yang sebesar us$ 62,55 per barel atau di atas rata-rata asumsi apbn. di samping itu ada dorongan juga dari peningkatan produksi kayu, penggunaan areal kawasan hutan, pembayaran piutang pnbp penggunaan kawasan hutan serta kenaikan pendapatan perusahaan panas bumi.\n"
     ]
    }
   ],
   "source": [
    "#3.\tMengubah huruf menjadi huruf kecil\n",
    "text3 = text3.lower()\n",
    "print(\"Huruf kecil semua:\\n----------------\\n\", text3)"
   ]
  },
  {
   "cell_type": "code",
   "execution_count": 25,
   "metadata": {},
   "outputs": [
    {
     "name": "stdout",
     "output_type": "stream",
     "text": [
      "Menghilangkan angka:\n",
      "----------------\n",
      " indonesia seakan ketiban 'durian runtuh' hingga triliunan rupiah saat terjadinya ledakan harga komoditas beberapa waktu lalu. komoditas ini di antaranya minyak dan gas bumi, batu bara, nikel, minyak kelapa sawit (crude palm oil/cpo), tembaga dan lainnya. komoditas andalan ekspor indonesia ini alami kenaikan harga fantastis dalam setahun terakhir. menteri keuangan (menkeu) sri mulyani indrawati menyampaikan efek lonjakan harga komoditas berpengaruh terhadap bea keluar (bk) di mana realisasinya mencapai rp , triliun atau terbaik sepanjang sejarah indonesia. sda migas mencapai pertumbuhan ,% menjadi ,% dari target rp  triliun. dipengaruhi oleh kenaikan icp dalam  bulan terakhir yang sebesar us$ , per barel atau di atas rata-rata asumsi apbn. di samping itu ada dorongan juga dari peningkatan produksi kayu, penggunaan areal kawasan hutan, pembayaran piutang pnbp penggunaan kawasan hutan serta kenaikan pendapatan perusahaan panas bumi.\n"
     ]
    }
   ],
   "source": [
    "#4.\tMenghapus angka pada paragraf\n",
    "text3 = re.sub(r\"\\d+\", \"\", text3)\n",
    "print(\"Menghilangkan angka:\\n----------------\\n\", text3)"
   ]
  },
  {
   "cell_type": "code",
   "execution_count": 26,
   "metadata": {},
   "outputs": [
    {
     "name": "stdout",
     "output_type": "stream",
     "text": [
      "Menghilangkan Tanda Baca:\n",
      "----------------\n",
      " indonesia seakan ketiban durian runtuh hingga triliunan rupiah saat terjadinya ledakan harga komoditas beberapa waktu lalu komoditas ini di antaranya minyak dan gas bumi batu bara nikel minyak kelapa sawit crude palm oilcpo tembaga dan lainnya komoditas andalan ekspor indonesia ini alami kenaikan harga fantastis dalam setahun terakhir menteri keuangan menkeu sri mulyani indrawati menyampaikan efek lonjakan harga komoditas berpengaruh terhadap bea keluar bk di mana realisasinya mencapai rp  triliun atau terbaik sepanjang sejarah indonesia sda migas mencapai pertumbuhan  menjadi  dari target rp  triliun dipengaruhi oleh kenaikan icp dalam  bulan terakhir yang sebesar us  per barel atau di atas ratarata asumsi apbn di samping itu ada dorongan juga dari peningkatan produksi kayu penggunaan areal kawasan hutan pembayaran piutang pnbp penggunaan kawasan hutan serta kenaikan pendapatan perusahaan panas bumi\n"
     ]
    }
   ],
   "source": [
    "#5.\tMenghapus tanda baca\n",
    "text3 = text3.translate(str.maketrans(\"\",\"\",string.punctuation))\n",
    "print(\"Menghilangkan Tanda Baca:\\n----------------\\n\",text3)"
   ]
  },
  {
   "cell_type": "code",
   "execution_count": 27,
   "metadata": {},
   "outputs": [
    {
     "name": "stdout",
     "output_type": "stream",
     "text": [
      "\n",
      "Karakter Kosong hilang:\n",
      "----------------\n",
      " indonesia seakan ketiban durian runtuh hingga triliunan rupiah saat terjadinya ledakan harga komoditas beberapa waktu lalu komoditas ini di antaranya minyak dan gas bumi batu bara nikel minyak kelapa sawit crude palm oilcpo tembaga dan lainnya komoditas andalan ekspor indonesia ini alami kenaikan harga fantastis dalam setahun terakhir menteri keuangan menkeu sri mulyani indrawati menyampaikan efek lonjakan harga komoditas berpengaruh terhadap bea keluar bk di mana realisasinya mencapai rp  triliun atau terbaik sepanjang sejarah indonesia sda migas mencapai pertumbuhan  menjadi  dari target rp  triliun dipengaruhi oleh kenaikan icp dalam  bulan terakhir yang sebesar us  per barel atau di atas ratarata asumsi apbn di samping itu ada dorongan juga dari peningkatan produksi kayu penggunaan areal kawasan hutan pembayaran piutang pnbp penggunaan kawasan hutan serta kenaikan pendapatan perusahaan panas bumi\n"
     ]
    }
   ],
   "source": [
    "#6.\tMenghapus karakter kosong\n",
    "text3 = text3.strip()\n",
    "print(\"\\nKarakter Kosong hilang:\\n----------------\\n\",text3)"
   ]
  },
  {
   "cell_type": "code",
   "execution_count": 28,
   "metadata": {},
   "outputs": [
    {
     "name": "stdout",
     "output_type": "stream",
     "text": [
      "Tokenizing:\n",
      "----------------\n",
      " ['indonesia', 'seakan', 'ketiban', 'durian', 'runtuh', 'hingga', 'triliunan', 'rupiah', 'saat', 'terjadinya', 'ledakan', 'harga', 'komoditas', 'beberapa', 'waktu', 'lalu', 'komoditas', 'ini', 'di', 'antaranya', 'minyak', 'dan', 'gas', 'bumi', 'batu', 'bara', 'nikel', 'minyak', 'kelapa', 'sawit', 'crude', 'palm', 'oilcpo', 'tembaga', 'dan', 'lainnya', 'komoditas', 'andalan', 'ekspor', 'indonesia', 'ini', 'alami', 'kenaikan', 'harga', 'fantastis', 'dalam', 'setahun', 'terakhir', 'menteri', 'keuangan', 'menkeu', 'sri', 'mulyani', 'indrawati', 'menyampaikan', 'efek', 'lonjakan', 'harga', 'komoditas', 'berpengaruh', 'terhadap', 'bea', 'keluar', 'bk', 'di', 'mana', 'realisasinya', 'mencapai', 'rp', 'triliun', 'atau', 'terbaik', 'sepanjang', 'sejarah', 'indonesia', 'sda', 'migas', 'mencapai', 'pertumbuhan', 'menjadi', 'dari', 'target', 'rp', 'triliun', 'dipengaruhi', 'oleh', 'kenaikan', 'icp', 'dalam', 'bulan', 'terakhir', 'yang', 'sebesar', 'us', 'per', 'barel', 'atau', 'di', 'atas', 'ratarata', 'asumsi', 'apbn', 'di', 'samping', 'itu', 'ada', 'dorongan', 'juga', 'dari', 'peningkatan', 'produksi', 'kayu', 'penggunaan', 'areal', 'kawasan', 'hutan', 'pembayaran', 'piutang', 'pnbp', 'penggunaan', 'kawasan', 'hutan', 'serta', 'kenaikan', 'pendapatan', 'perusahaan', 'panas', 'bumi']\n"
     ]
    }
   ],
   "source": [
    "#7.\tProses tokenizing\n",
    "tokens3 = word_tokenize(text3)\n",
    "print(\"Tokenizing:\\n----------------\\n\", tokens3)"
   ]
  },
  {
   "cell_type": "code",
   "execution_count": 29,
   "metadata": {},
   "outputs": [
    {
     "name": "stdout",
     "output_type": "stream",
     "text": [
      "Requirement already satisfied: Sastrawi in c:\\python37\\lib\\site-packages (1.0.1)\n"
     ]
    },
    {
     "name": "stderr",
     "output_type": "stream",
     "text": [
      "WARNING: Ignoring invalid distribution -umpy (c:\\python37\\lib\\site-packages)\n",
      "WARNING: Ignoring invalid distribution -umpy (c:\\python37\\lib\\site-packages)\n",
      "WARNING: Ignoring invalid distribution -umpy (c:\\python37\\lib\\site-packages)\n",
      "WARNING: Ignoring invalid distribution -umpy (c:\\python37\\lib\\site-packages)\n",
      "WARNING: Ignoring invalid distribution -umpy (c:\\python37\\lib\\site-packages)\n"
     ]
    }
   ],
   "source": [
    "#8.\tMemasang library Sastrawi\n",
    "!{sys.executable} -m pip install Sastrawi\n",
    "from nltk.corpus import stopwords\n",
    "from nltk.probability import FreqDist\n",
    "from Sastrawi.StopWordRemover.StopWordRemoverFactory import StopWordRemoverFactory\n",
    "from Sastrawi.Stemmer.StemmerFactory import StemmerFactory\n",
    "import matplotlib.pyplot as plt"
   ]
  },
  {
   "cell_type": "code",
   "execution_count": 30,
   "metadata": {},
   "outputs": [
    {
     "name": "stdout",
     "output_type": "stream",
     "text": [
      "\n",
      "Setelah filtering:\n",
      "----------------\n",
      " indonesia seakan ketiban durian runtuh hingga triliunan rupiah terjadinya ledakan harga komoditas beberapa waktu lalu komoditas antaranya minyak gas bumi batu bara nikel minyak kelapa sawit crude palm oilcpo tembaga lainnya komoditas andalan ekspor indonesia alami kenaikan harga fantastis setahun terakhir menteri keuangan menkeu sri mulyani indrawati menyampaikan efek lonjakan harga komoditas berpengaruh bea keluar bk mana realisasinya mencapai rp  triliun terbaik sepanjang sejarah indonesia sda migas mencapai pertumbuhan  menjadi  target rp  triliun dipengaruhi kenaikan icp  bulan terakhir sebesar us  per barel di atas ratarata asumsi apbn di samping ada dorongan dari peningkatan produksi kayu penggunaan areal kawasan hutan pembayaran piutang pnbp penggunaan kawasan hutan kenaikan pendapatan perusahaan panas bumi\n"
     ]
    }
   ],
   "source": [
    "#9.\tProses filter menggunakan Sastrawi\n",
    "factory = StopWordRemoverFactory()\n",
    "stopword = factory.create_stop_word_remover()\n",
    "text3 = stopword.remove(text3)\n",
    "print(\"\\nSetelah filtering:\\n----------------\\n\", text3)"
   ]
  },
  {
   "cell_type": "code",
   "execution_count": 31,
   "metadata": {},
   "outputs": [
    {
     "name": "stdout",
     "output_type": "stream",
     "text": [
      "\n",
      "Output stemming:\n",
      "----------------\n",
      " indonesia akan ketiban durian runtuh hingga triliun rupiah jadi ledak harga komoditas beberapa waktu lalu komoditas antara minyak gas bumi batu bara nikel minyak kelapa sawit crude palm oilcpo tembaga lain komoditas andal ekspor indonesia alami naik harga fantastis tahun akhir menteri uang menkeu sri mulyani indrawati sampai efek lonjak harga komoditas pengaruh bea keluar bk mana realisasi capai rp triliun baik panjang sejarah indonesia sda migas capai tumbuh jadi target rp triliun pengaruh naik icp bulan akhir besar us per barel di atas ratarata asumsi apbn di samping ada dorong dari tingkat produksi kayu guna areal kawasan hutan bayar piutang pnbp guna kawasan hutan naik dapat usaha panas bumi\n"
     ]
    }
   ],
   "source": [
    "#10.\tProses Stemming Sastrawi\n",
    "factory = StemmerFactory()\n",
    "stemmer = factory.create_stemmer()\n",
    "text3 = stemmer.stem(text3)\n",
    "print(\"\\nOutput stemming:\\n----------------\\n\", text3)"
   ]
  },
  {
   "cell_type": "code",
   "execution_count": 32,
   "metadata": {},
   "outputs": [
    {
     "name": "stdout",
     "output_type": "stream",
     "text": [
      "\n",
      "Term Frequency:\n",
      "----------------\n",
      " [('komoditas', 4), ('di', 4), ('indonesia', 3), ('harga', 3), ('kenaikan', 3), ('ini', 2), ('minyak', 2), ('dan', 2), ('bumi', 2), ('dalam', 2), ('terakhir', 2), ('mencapai', 2), ('rp', 2), ('triliun', 2), ('atau', 2), ('dari', 2), ('penggunaan', 2), ('kawasan', 2), ('hutan', 2), ('seakan', 1), ('ketiban', 1), ('durian', 1), ('runtuh', 1), ('hingga', 1), ('triliunan', 1), ('rupiah', 1), ('saat', 1), ('terjadinya', 1), ('ledakan', 1), ('beberapa', 1), ('waktu', 1), ('lalu', 1), ('antaranya', 1), ('gas', 1), ('batu', 1), ('bara', 1), ('nikel', 1), ('kelapa', 1), ('sawit', 1), ('crude', 1), ('palm', 1), ('oilcpo', 1), ('tembaga', 1), ('lainnya', 1), ('andalan', 1), ('ekspor', 1), ('alami', 1), ('fantastis', 1), ('setahun', 1), ('menteri', 1), ('keuangan', 1), ('menkeu', 1), ('sri', 1), ('mulyani', 1), ('indrawati', 1), ('menyampaikan', 1), ('efek', 1), ('lonjakan', 1), ('berpengaruh', 1), ('terhadap', 1), ('bea', 1), ('keluar', 1), ('bk', 1), ('mana', 1), ('realisasinya', 1), ('terbaik', 1), ('sepanjang', 1), ('sejarah', 1), ('sda', 1), ('migas', 1), ('pertumbuhan', 1), ('menjadi', 1), ('target', 1), ('dipengaruhi', 1), ('oleh', 1), ('icp', 1), ('bulan', 1), ('yang', 1), ('sebesar', 1), ('us', 1), ('per', 1), ('barel', 1), ('atas', 1), ('ratarata', 1), ('asumsi', 1), ('apbn', 1), ('samping', 1), ('itu', 1), ('ada', 1), ('dorongan', 1), ('juga', 1), ('peningkatan', 1), ('produksi', 1), ('kayu', 1), ('areal', 1), ('pembayaran', 1), ('piutang', 1), ('pnbp', 1), ('serta', 1), ('pendapatan', 1), ('perusahaan', 1), ('panas', 1)]\n"
     ]
    }
   ],
   "source": [
    "#11.\tFrekuensi huruf yang muncul menggunakan Sastrawi\n",
    "tf = FreqDist(tokens3)\n",
    "print(\"\\nTerm Frequency:\\n----------------\\n\", tf.most_common())"
   ]
  },
  {
   "cell_type": "code",
   "execution_count": 33,
   "metadata": {},
   "outputs": [
    {
     "name": "stdout",
     "output_type": "stream",
     "text": [
      "\n",
      "Keyword yang paling banyak muncul:\n",
      "----------------\n",
      " komoditas = 4 \n",
      "\n"
     ]
    }
   ],
   "source": [
    "#12.\tKata yang sering muncul menggunakan Sastrawi\n",
    "word, frequency= tf.most_common()[0]\n",
    "print(\"\\nKeyword yang paling banyak muncul:\\n----------------\\n\", word, \"=\", frequency , \"\\n\")"
   ]
  },
  {
   "cell_type": "code",
   "execution_count": 34,
   "metadata": {},
   "outputs": [
    {
     "name": "stdout",
     "output_type": "stream",
     "text": [
      "\n",
      "Keseluruhan keywords:\n",
      "----------------\n",
      "\n",
      "komoditas : 4\n",
      "di : 4\n",
      "indonesia : 3\n",
      "harga : 3\n",
      "kenaikan : 3\n",
      "ini : 2\n",
      "minyak : 2\n",
      "dan : 2\n",
      "bumi : 2\n",
      "dalam : 2\n",
      "terakhir : 2\n",
      "mencapai : 2\n",
      "rp : 2\n",
      "triliun : 2\n",
      "atau : 2\n",
      "dari : 2\n",
      "penggunaan : 2\n",
      "kawasan : 2\n",
      "hutan : 2\n",
      "seakan : 1\n",
      "ketiban : 1\n",
      "durian : 1\n",
      "runtuh : 1\n",
      "hingga : 1\n",
      "triliunan : 1\n",
      "rupiah : 1\n",
      "saat : 1\n",
      "terjadinya : 1\n",
      "ledakan : 1\n",
      "beberapa : 1\n",
      "waktu : 1\n",
      "lalu : 1\n",
      "antaranya : 1\n",
      "gas : 1\n",
      "batu : 1\n",
      "bara : 1\n",
      "nikel : 1\n",
      "kelapa : 1\n",
      "sawit : 1\n",
      "crude : 1\n",
      "palm : 1\n",
      "oilcpo : 1\n",
      "tembaga : 1\n",
      "lainnya : 1\n",
      "andalan : 1\n",
      "ekspor : 1\n",
      "alami : 1\n",
      "fantastis : 1\n",
      "setahun : 1\n",
      "menteri : 1\n",
      "keuangan : 1\n",
      "menkeu : 1\n",
      "sri : 1\n",
      "mulyani : 1\n",
      "indrawati : 1\n",
      "menyampaikan : 1\n",
      "efek : 1\n",
      "lonjakan : 1\n",
      "berpengaruh : 1\n",
      "terhadap : 1\n",
      "bea : 1\n",
      "keluar : 1\n",
      "bk : 1\n",
      "mana : 1\n",
      "realisasinya : 1\n",
      "terbaik : 1\n",
      "sepanjang : 1\n",
      "sejarah : 1\n",
      "sda : 1\n",
      "migas : 1\n",
      "pertumbuhan : 1\n",
      "menjadi : 1\n",
      "target : 1\n",
      "dipengaruhi : 1\n",
      "oleh : 1\n",
      "icp : 1\n",
      "bulan : 1\n",
      "yang : 1\n",
      "sebesar : 1\n",
      "us : 1\n",
      "per : 1\n",
      "barel : 1\n",
      "atas : 1\n",
      "ratarata : 1\n",
      "asumsi : 1\n",
      "apbn : 1\n",
      "samping : 1\n",
      "itu : 1\n",
      "ada : 1\n",
      "dorongan : 1\n",
      "juga : 1\n",
      "peningkatan : 1\n",
      "produksi : 1\n",
      "kayu : 1\n",
      "areal : 1\n",
      "pembayaran : 1\n",
      "piutang : 1\n",
      "pnbp : 1\n",
      "serta : 1\n",
      "pendapatan : 1\n",
      "perusahaan : 1\n",
      "panas : 1\n"
     ]
    }
   ],
   "source": [
    "#13.\tKeseluruhan kata yang muncul\n",
    "print(\"\\nKeseluruhan keywords:\\n----------------\\n\")\n",
    "for word, frequency in tf.most_common():\n",
    "    print(word, \":\", frequency)"
   ]
  },
  {
   "cell_type": "code",
   "execution_count": 35,
   "metadata": {},
   "outputs": [
    {
     "data": {
      "image/png": "[encoded data removed]",
      "text/plain": [
       "<Figure size 432x288 with 1 Axes>"
      ]
     },
     "metadata": {
      "needs_background": "light"
     },
     "output_type": "display_data"
    }
   ],
   "source": [
    "#14.\tPlot data kata yang sering muncul\n",
    "tf.plot(cumulative=False)\n",
    "plt.show()"
   ]
  },
  {
   "cell_type": "markdown",
   "metadata": {},
   "source": [
    "# Teknik Porter"
   ]
  },
  {
   "cell_type": "code",
   "execution_count": 36,
   "metadata": {},
   "outputs": [],
   "source": [
    "#15.\tMemasang library Porter\n",
    "from nltk.stem import PorterStemmer"
   ]
  },
  {
   "cell_type": "code",
   "execution_count": 37,
   "metadata": {},
   "outputs": [
    {
     "name": "stdout",
     "output_type": "stream",
     "text": [
      "\n",
      "Setelah filtering\n",
      "----------------\n",
      " ['indonesia', 'seakan', 'ketiban', 'durian', 'runtuh', 'triliunan', 'rupiah', 'ledakan', 'harga', 'komoditas', 'komoditas', 'minyak', 'gas', 'bumi', 'batu', 'bara', 'nikel', 'minyak', 'kelapa', 'sawit', 'crude', 'palm', 'oilcpo', 'tembaga', 'komoditas', 'andalan', 'ekspor', 'indonesia', 'alami', 'kenaikan', 'harga', 'fantastis', 'setahun', 'menteri', 'keuangan', 'menkeu', 'sri', 'mulyani', 'indrawati', 'efek', 'lonjakan', 'harga', 'komoditas', 'berpengaruh', 'bea', 'bk', 'realisasinya', 'mencapai', 'rp', 'triliun', 'terbaik', 'sejarah', 'indonesia', 'sda', 'migas', 'mencapai', 'pertumbuhan', 'target', 'rp', 'triliun', 'dipengaruhi', 'kenaikan', 'icp', 'us', 'barel', 'ratarata', 'asumsi', 'apbn', 'samping', 'dorongan', 'peningkatan', 'produksi', 'kayu', 'penggunaan', 'areal', 'kawasan', 'hutan', 'pembayaran', 'piutang', 'pnbp', 'penggunaan', 'kawasan', 'hutan', 'kenaikan', 'pendapatan', 'perusahaan', 'panas', 'bumi']\n"
     ]
    }
   ],
   "source": [
    "#16.\tProses filter menggunakan Porter\n",
    "listStopword = set(stopwords.words('indonesian'))\n",
    "tmpstr = []\n",
    "for t in tokens3:\n",
    "    if t not in listStopword:\n",
    "        tmpstr.append(t)\n",
    "        tokens3=tmpstr\n",
    "print(\"\\nSetelah filtering\\n----------------\\n\", tokens3)"
   ]
  },
  {
   "cell_type": "code",
   "execution_count": 38,
   "metadata": {},
   "outputs": [
    {
     "name": "stdout",
     "output_type": "stream",
     "text": [
      "\n",
      "Output stemming:\n",
      "----------------\n",
      " ['indonesia', 'seakan', 'ketiban', 'durian', 'runtuh', 'triliunan', 'rupiah', 'ledakan', 'harga', 'komodita', 'komodita', 'minyak', 'ga', 'bumi', 'batu', 'bara', 'nikel', 'minyak', 'kelapa', 'sawit', 'crude', 'palm', 'oilcpo', 'tembaga', 'komodita', 'andalan', 'ekspor', 'indonesia', 'alami', 'kenaikan', 'harga', 'fantasti', 'setahun', 'menteri', 'keuangan', 'menkeu', 'sri', 'mulyani', 'indrawati', 'efek', 'lonjakan', 'harga', 'komodita', 'berpengaruh', 'bea', 'bk', 'realisasinya', 'mencapai', 'rp', 'triliun', 'terbaik', 'sejarah', 'indonesia', 'sda', 'miga', 'mencapai', 'pertumbuhan', 'target', 'rp', 'triliun', 'dipengaruhi', 'kenaikan', 'icp', 'us', 'barel', 'ratarata', 'asumsi', 'apbn', 'samp', 'dorongan', 'peningkatan', 'produksi', 'kayu', 'penggunaan', 'areal', 'kawasan', 'hutan', 'pembayaran', 'piutang', 'pnbp', 'penggunaan', 'kawasan', 'hutan', 'kenaikan', 'pendapatan', 'perusahaan', 'pana', 'bumi']\n"
     ]
    }
   ],
   "source": [
    "#17.\tProses Stemming menggunakan Porter\n",
    "tmpstr = []\n",
    "ps = PorterStemmer()\n",
    "for k in tokens3:\n",
    "    tmpstr.append(ps.stem(k))\n",
    "tokens3=tmpstr\n",
    "print(\"\\nOutput stemming:\\n----------------\\n\", tokens3)"
   ]
  },
  {
   "cell_type": "code",
   "execution_count": 39,
   "metadata": {},
   "outputs": [
    {
     "name": "stdout",
     "output_type": "stream",
     "text": [
      "\n",
      "Term Frequency:\n",
      "----------------\n",
      " [('komodita', 4), ('indonesia', 3), ('harga', 3), ('kenaikan', 3), ('minyak', 2), ('bumi', 2), ('mencapai', 2), ('rp', 2), ('triliun', 2), ('penggunaan', 2), ('kawasan', 2), ('hutan', 2), ('seakan', 1), ('ketiban', 1), ('durian', 1), ('runtuh', 1), ('triliunan', 1), ('rupiah', 1), ('ledakan', 1), ('ga', 1), ('batu', 1), ('bara', 1), ('nikel', 1), ('kelapa', 1), ('sawit', 1), ('crude', 1), ('palm', 1), ('oilcpo', 1), ('tembaga', 1), ('andalan', 1), ('ekspor', 1), ('alami', 1), ('fantasti', 1), ('setahun', 1), ('menteri', 1), ('keuangan', 1), ('menkeu', 1), ('sri', 1), ('mulyani', 1), ('indrawati', 1), ('efek', 1), ('lonjakan', 1), ('berpengaruh', 1), ('bea', 1), ('bk', 1), ('realisasinya', 1), ('terbaik', 1), ('sejarah', 1), ('sda', 1), ('miga', 1), ('pertumbuhan', 1), ('target', 1), ('dipengaruhi', 1), ('icp', 1), ('us', 1), ('barel', 1), ('ratarata', 1), ('asumsi', 1), ('apbn', 1), ('samp', 1), ('dorongan', 1), ('peningkatan', 1), ('produksi', 1), ('kayu', 1), ('areal', 1), ('pembayaran', 1), ('piutang', 1), ('pnbp', 1), ('pendapatan', 1), ('perusahaan', 1), ('pana', 1)]\n"
     ]
    }
   ],
   "source": [
    "#18.\tFrekuensi kata yang muncul menggunakan Porter\n",
    "tf = FreqDist(tokens3)\n",
    "print(\"\\nTerm Frequency:\\n----------------\\n\", tf.most_common())"
   ]
  },
  {
   "cell_type": "code",
   "execution_count": 40,
   "metadata": {},
   "outputs": [
    {
     "name": "stdout",
     "output_type": "stream",
     "text": [
      "\n",
      "Keyword yang paling banyak muncul:\n",
      "----------------\n",
      " komodita = 4 \n",
      "\n"
     ]
    }
   ],
   "source": [
    "#19.\tKata yang sering muncul menggunakan Porter\n",
    "word, frequency=tf.most_common()[0]\n",
    "print(\"\\nKeyword yang paling banyak muncul:\\n----------------\\n\", word, \"=\", frequency , \"\\n\")"
   ]
  },
  {
   "cell_type": "code",
   "execution_count": 41,
   "metadata": {
    "scrolled": true
   },
   "outputs": [
    {
     "name": "stdout",
     "output_type": "stream",
     "text": [
      "\n",
      "Keseluruhan keywords:\n",
      "----------------\n",
      "\n",
      "komodita : 4\n",
      "indonesia : 3\n",
      "harga : 3\n",
      "kenaikan : 3\n",
      "minyak : 2\n",
      "bumi : 2\n",
      "mencapai : 2\n",
      "rp : 2\n",
      "triliun : 2\n",
      "penggunaan : 2\n",
      "kawasan : 2\n",
      "hutan : 2\n",
      "seakan : 1\n",
      "ketiban : 1\n",
      "durian : 1\n",
      "runtuh : 1\n",
      "triliunan : 1\n",
      "rupiah : 1\n",
      "ledakan : 1\n",
      "ga : 1\n",
      "batu : 1\n",
      "bara : 1\n",
      "nikel : 1\n",
      "kelapa : 1\n",
      "sawit : 1\n",
      "crude : 1\n",
      "palm : 1\n",
      "oilcpo : 1\n",
      "tembaga : 1\n",
      "andalan : 1\n",
      "ekspor : 1\n",
      "alami : 1\n",
      "fantasti : 1\n",
      "setahun : 1\n",
      "menteri : 1\n",
      "keuangan : 1\n",
      "menkeu : 1\n",
      "sri : 1\n",
      "mulyani : 1\n",
      "indrawati : 1\n",
      "efek : 1\n",
      "lonjakan : 1\n",
      "berpengaruh : 1\n",
      "bea : 1\n",
      "bk : 1\n",
      "realisasinya : 1\n",
      "terbaik : 1\n",
      "sejarah : 1\n",
      "sda : 1\n",
      "miga : 1\n",
      "pertumbuhan : 1\n",
      "target : 1\n",
      "dipengaruhi : 1\n",
      "icp : 1\n",
      "us : 1\n",
      "barel : 1\n",
      "ratarata : 1\n",
      "asumsi : 1\n",
      "apbn : 1\n",
      "samp : 1\n",
      "dorongan : 1\n",
      "peningkatan : 1\n",
      "produksi : 1\n",
      "kayu : 1\n",
      "areal : 1\n",
      "pembayaran : 1\n",
      "piutang : 1\n",
      "pnbp : 1\n",
      "pendapatan : 1\n",
      "perusahaan : 1\n",
      "pana : 1\n"
     ]
    }
   ],
   "source": [
    "#20.\tKeseluruhan kata yang muncul\n",
    "print(\"\\nKeseluruhan keywords:\\n----------------\\n\")\n",
    "for word, frequency in tf.most_common():\n",
    "    print(word, \":\", frequency)"
   ]
  },
  {
   "cell_type": "code",
   "execution_count": 42,
   "metadata": {},
   "outputs": [
    {
     "data": {
      "image/png": "[encoded data removed]",
      "text/plain": [
       "<Figure size 432x288 with 1 Axes>"
      ]
     },
     "metadata": {
      "needs_background": "light"
     },
     "output_type": "display_data"
    }
   ],
   "source": [
    "#21.\tPlot data yang sering muncul\n",
    "tf.plot(cumulative=False)\n",
    "plt.show()"
   ]
  },
  {
   "cell_type": "code",
   "execution_count": null,
   "metadata": {},
   "outputs": [],
   "source": []
  }
 ],
 "metadata": {
  "kernelspec": {
   "display_name": "Python 3",
   "language": "python",
   "name": "python3"
  },
  "language_info": {
   "codemirror_mode": {
    "name": "ipython",
    "version": 3
   },
   "file_extension": ".py",
   "mimetype": "text/x-python",
   "name": "python",
   "nbconvert_exporter": "python",
   "pygments_lexer": "ipython3",
   "version": "3.7.6"
  }
 },
 "nbformat": 4,
 "nbformat_minor": 4
}
