{
 "cells": [
  {
   "cell_type": "markdown",
   "metadata": {},
   "source": [
    "# Klasifikasi Sederhana"
   ]
  },
  {
   "cell_type": "code",
   "execution_count": 30,
   "metadata": {},
   "outputs": [],
   "source": [
    "import pandas as pd\n",
    "import numpy as np\n",
    "from sklearn.neighbors import KNeighborsClassifier"
   ]
  },
  {
   "cell_type": "code",
   "execution_count": 31,
   "metadata": {},
   "outputs": [],
   "source": [
    "dataset = pd.read_csv('Menu_Ohkaeri.csv',sep=\";\") #Sesuaikan dengan directory file masing-masing\n",
    "data = dataset[['Pelanggan', 'Karyawan', 'Stakeholder', 'Kelas']]\n",
    "data=data.dropna()"
   ]
  },
  {
   "cell_type": "code",
   "execution_count": 32,
   "metadata": {},
   "outputs": [],
   "source": [
    "#Memisahkan antara data yg dilatih dan data label\n",
    "train_data=data[['Pelanggan', 'Karyawan','Stakeholder']]\n",
    "train_label=data[['Kelas']]"
   ]
  },
  {
   "cell_type": "code",
   "execution_count": 33,
   "metadata": {},
   "outputs": [],
   "source": [
    "#Menggunakan fungsi KNN klasifikasi\n",
    "kNN=KNeighborsClassifier(n_neighbors=3, weights='distance')"
   ]
  },
  {
   "cell_type": "markdown",
   "metadata": {},
   "source": [
    "# Prediksi dengan menambah data baru\n",
    "Menambah data uji baru dengan value:\n",
    "Pelanggan: 6\n",
    "Karyawan: 4\n",
    "Stakeholder: 7"
   ]
  },
  {
   "cell_type": "code",
   "execution_count": 34,
   "metadata": {},
   "outputs": [
    {
     "name": "stderr",
     "output_type": "stream",
     "text": [
      "C:\\Python37\\lib\\site-packages\\sklearn\\base.py:446: UserWarning: X does not have valid feature names, but KNeighborsClassifier was fitted with feature names\n",
      "  \"X does not have valid feature names, but\"\n"
     ]
    }
   ],
   "source": [
    "test_data=[[6, 4, 7]]\n",
    "kNN.fit(train_data, np.ravel(train_label))\n",
    "class_result=kNN.predict(test_data)"
   ]
  },
  {
   "cell_type": "code",
   "execution_count": 35,
   "metadata": {},
   "outputs": [
    {
     "name": "stdout",
     "output_type": "stream",
     "text": [
      "Hasil klasifikasi =  Sedang\n"
     ]
    }
   ],
   "source": [
    "print('Hasil klasifikasi = ', class_result.item())"
   ]
  },
  {
   "cell_type": "markdown",
   "metadata": {},
   "source": [
    "# Latihan 2"
   ]
  },
  {
   "cell_type": "code",
   "execution_count": 43,
   "metadata": {},
   "outputs": [
    {
     "name": "stdout",
     "output_type": "stream",
     "text": [
      "Hasil klasifikasi =  Rendah\n"
     ]
    },
    {
     "name": "stderr",
     "output_type": "stream",
     "text": [
      "C:\\Python37\\lib\\site-packages\\sklearn\\base.py:446: UserWarning: X does not have valid feature names, but KNeighborsClassifier was fitted with feature names\n",
      "  \"X does not have valid feature names, but\"\n"
     ]
    }
   ],
   "source": [
    "test_data=[[1, 4, 7]]\n",
    "kNN.fit(train_data, np.ravel(train_label))\n",
    "class_result=kNN.predict(test_data)\n",
    "print('Hasil klasifikasi = ', class_result.item())"
   ]
  },
  {
   "cell_type": "code",
   "execution_count": null,
   "metadata": {},
   "outputs": [],
   "source": [
    "\n",
    "\n"
   ]
  },
  {
   "cell_type": "markdown",
   "metadata": {},
   "source": [
    "# Klasifikasi Dengan Validasi"
   ]
  },
  {
   "cell_type": "code",
   "execution_count": 7,
   "metadata": {},
   "outputs": [],
   "source": [
    "import pandas as pd\n",
    "from sklearn.model_selection import train_test_split\n",
    "import numpy as np\n",
    "from sklearn.neighbors import KNeighborsClassifier"
   ]
  },
  {
   "cell_type": "code",
   "execution_count": 8,
   "metadata": {},
   "outputs": [],
   "source": [
    "dataset = pd.read_csv('Menu_Ohkaeri.csv',sep=\";\") #Sesuaikan dengan directory file masing-masing\n",
    "data = dataset[['Pelanggan', 'Karyawan', 'Stakeholder', 'Kelas']]"
   ]
  },
  {
   "cell_type": "code",
   "execution_count": 9,
   "metadata": {},
   "outputs": [],
   "source": [
    "train, test = train_test_split(data, test_size=0.2)"
   ]
  },
  {
   "cell_type": "code",
   "execution_count": 10,
   "metadata": {},
   "outputs": [],
   "source": [
    "train_data=train[['Pelanggan','Karyawan','Stakeholder']]\n",
    "train_label=train[['Kelas']]\n",
    "test_data=test[['Pelanggan','Karyawan','Stakeholder']]\n",
    "test_label=test[['Kelas']]"
   ]
  },
  {
   "cell_type": "markdown",
   "metadata": {},
   "source": [
    "Just in case jika hasil data yang dilatih terdapat nilai null maka harus dibuang"
   ]
  },
  {
   "cell_type": "code",
   "execution_count": 11,
   "metadata": {},
   "outputs": [],
   "source": [
    "pos_null = train_data.index[train_data.isnull().any(axis=1)].tolist()\n",
    "train_data = train_data.drop(pos_null)\n",
    "train_label = train_label.drop(pos_null)"
   ]
  },
  {
   "cell_type": "code",
   "execution_count": 12,
   "metadata": {},
   "outputs": [],
   "source": [
    "pos_null = test_data.index[test_data.isnull().any(axis=1)].tolist()\n",
    "test_data = test_data.drop(pos_null)\n",
    "test_label = test_label.drop(pos_null)"
   ]
  },
  {
   "cell_type": "code",
   "execution_count": 13,
   "metadata": {},
   "outputs": [],
   "source": [
    "#Menentukan nilai minimum dan maximum data yang dilatih\n",
    "newmin=0\n",
    "newmax=1\n",
    "mindata=train_data.min()\n",
    "maxdata=train_data.max()\n",
    "train_data = ((train_data-mindata) * (newmax-newmin) / (maxdata-mindata)) + newmin\n",
    "test_data = ((test_data-mindata) * (newmax-newmin) / (maxdata-mindata)) + newmin"
   ]
  },
  {
   "cell_type": "code",
   "execution_count": 14,
   "metadata": {},
   "outputs": [],
   "source": [
    "#Menggunakan Fungsi KNN Klasifikasi\n",
    "kNN=KNeighborsClassifier(n_neighbors=3, weights='distance')\n",
    "kNN.fit(train_data, np.ravel(train_label))\n",
    "class_result=kNN.predict(test_data)"
   ]
  },
  {
   "cell_type": "code",
   "execution_count": 15,
   "metadata": {},
   "outputs": [
    {
     "name": "stdout",
     "output_type": "stream",
     "text": [
      "Hasil klasifikasi\n",
      " ['Tinggi' 'Sedang' 'Sedang' 'Sedang' 'Sedang']\n"
     ]
    }
   ],
   "source": [
    "print('Hasil klasifikasi\\n', class_result)"
   ]
  },
  {
   "cell_type": "code",
   "execution_count": 16,
   "metadata": {},
   "outputs": [],
   "source": [
    "#Mendeteksi data error yang diuji\n",
    "error=test_label.loc[:]\n",
    "error['Class_Result']=class_result\n",
    "error['Output']=(error['Kelas'] == error['Class_Result'])"
   ]
  },
  {
   "cell_type": "code",
   "execution_count": 17,
   "metadata": {},
   "outputs": [
    {
     "name": "stdout",
     "output_type": "stream",
     "text": [
      "\n",
      "\n",
      "Perbandingan dengan class label asli:\n",
      "      Kelas Class_Result  Output\n",
      "48  Sedang       Tinggi   False\n",
      "32  Sedang       Sedang    True\n",
      "28  Sedang       Sedang    True\n",
      "0   Tinggi       Sedang   False\n",
      "68  Rendah       Sedang   False\n"
     ]
    }
   ],
   "source": [
    "print('\\n\\nPerbandingan dengan class label asli:\\n', error)"
   ]
  },
  {
   "cell_type": "code",
   "execution_count": 18,
   "metadata": {},
   "outputs": [],
   "source": [
    "precision_ratio=kNN.score(test_data, test_label)\n",
    "error_ratio=1-precision_ratio"
   ]
  },
  {
   "cell_type": "code",
   "execution_count": 19,
   "metadata": {},
   "outputs": [
    {
     "name": "stdout",
     "output_type": "stream",
     "text": [
      "\n",
      "\n",
      "Error ratio =  0.6\n"
     ]
    }
   ],
   "source": [
    "print('\\n\\nError ratio = ', error_ratio)"
   ]
  },
  {
   "cell_type": "markdown",
   "metadata": {},
   "source": [
    "# Klasifikasi Decision Tree"
   ]
  },
  {
   "cell_type": "code",
   "execution_count": 20,
   "metadata": {},
   "outputs": [],
   "source": [
    "import pandas as pd\n",
    "import numpy as np\n",
    "from sklearn.model_selection import train_test_split\n",
    "from sklearn.neighbors import KNeighborsClassifier\n",
    "from sklearn import tree\n",
    "from sklearn.tree import DecisionTreeClassifier"
   ]
  },
  {
   "cell_type": "code",
   "execution_count": 21,
   "metadata": {},
   "outputs": [],
   "source": [
    "dataset = pd.read_csv('Menu_Ohkaeri.csv',sep=\";\") #Sesuaikan dengan directory file masing-masing\n",
    "data = dataset[['Pelanggan', 'Karyawan', 'Stakeholder', 'Kelas']]"
   ]
  },
  {
   "cell_type": "code",
   "execution_count": 22,
   "metadata": {},
   "outputs": [],
   "source": [
    "train, test = train_test_split(data, test_size=0.2)"
   ]
  },
  {
   "cell_type": "code",
   "execution_count": 23,
   "metadata": {},
   "outputs": [],
   "source": [
    "train_data=train[['Pelanggan','Karyawan','Stakeholder']]\n",
    "train_label=train[['Kelas']]\n",
    "test_data=test[['Pelanggan','Karyawan','Stakeholder']]\n",
    "test_label=test[['Kelas']]"
   ]
  },
  {
   "cell_type": "markdown",
   "metadata": {},
   "source": [
    "Just in case jika hasil data yang dilatih terdapat nilai null maka harus dibuang"
   ]
  },
  {
   "cell_type": "code",
   "execution_count": 24,
   "metadata": {},
   "outputs": [],
   "source": [
    "pos_null = train_data.index[train_data.isnull().any(axis=1)].tolist()\n",
    "train_data = train_data.drop(pos_null)\n",
    "train_label = train_label.drop(pos_null)"
   ]
  },
  {
   "cell_type": "code",
   "execution_count": 25,
   "metadata": {},
   "outputs": [],
   "source": [
    "pos_null = test_data.index[test_data.isnull().any(axis=1)].tolist()\n",
    "test_data = test_data.drop(pos_null)\n",
    "test_label = test_label.drop(pos_null)"
   ]
  },
  {
   "cell_type": "code",
   "execution_count": 26,
   "metadata": {},
   "outputs": [
    {
     "name": "stdout",
     "output_type": "stream",
     "text": [
      "\n",
      "Test Data:\n",
      "     Pelanggan  Karyawan  Stakeholder\n",
      "68          3       7.0         10.0\n",
      "52          7       7.0         10.0\n",
      "4           2      10.0          2.0\n",
      "16          6       1.0          6.0\n",
      "56          7       4.0          4.0\n",
      "8           9       3.0          4.0\n"
     ]
    }
   ],
   "source": [
    "print('\\nTest Data:\\n', test_data)"
   ]
  },
  {
   "cell_type": "code",
   "execution_count": 27,
   "metadata": {},
   "outputs": [
    {
     "data": {
      "text/plain": [
       "DecisionTreeClassifier(criterion='entropy', max_depth=3)"
      ]
     },
     "execution_count": 27,
     "metadata": {},
     "output_type": "execute_result"
    }
   ],
   "source": [
    "#MEnggunakan fungsi Decision Tree\n",
    "dtc=DecisionTreeClassifier(criterion='entropy', max_depth=3)\n",
    "dtc.fit(train_data, train_label)"
   ]
  },
  {
   "cell_type": "code",
   "execution_count": 28,
   "metadata": {},
   "outputs": [
    {
     "name": "stdout",
     "output_type": "stream",
     "text": [
      "\n",
      "Class = \n",
      " ['Sedang' 'Sedang' 'Rendah' 'Sedang' 'Sedang' 'Sedang']\n"
     ]
    }
   ],
   "source": [
    "class_result=dtc.predict(test_data)\n",
    "print('\\nClass = \\n', class_result)"
   ]
  },
  {
   "cell_type": "code",
   "execution_count": 29,
   "metadata": {},
   "outputs": [
    {
     "name": "stdout",
     "output_type": "stream",
     "text": [
      "\n",
      "Error ratio =  33.33 %\n"
     ]
    }
   ],
   "source": [
    "acc=dtc.score(test_data, test_label)\n",
    "err=round((1-acc)*100, 2)\n",
    "print('\\nError ratio = ', err, '%')"
   ]
  },
  {
   "cell_type": "code",
   "execution_count": null,
   "metadata": {},
   "outputs": [],
   "source": []
  }
 ],
 "metadata": {
  "kernelspec": {
   "display_name": "Python 3",
   "language": "python",
   "name": "python3"
  },
  "language_info": {
   "codemirror_mode": {
    "name": "ipython",
    "version": 3
   },
   "file_extension": ".py",
   "mimetype": "text/x-python",
   "name": "python",
   "nbconvert_exporter": "python",
   "pygments_lexer": "ipython3",
   "version": "3.7.6"
  }
 },
 "nbformat": 4,
 "nbformat_minor": 4
}
